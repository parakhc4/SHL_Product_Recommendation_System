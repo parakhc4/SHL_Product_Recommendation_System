{
 "cells": [
  {
   "cell_type": "code",
   "execution_count": 14,
   "metadata": {},
   "outputs": [],
   "source": [
    "import numpy as np\n",
    "import pandas as pd\n",
    "from sentence_transformers import SentenceTransformer\n",
    "from sklearn.metrics.pairwise import cosine_similarity\n"
   ]
  },
  {
   "cell_type": "code",
   "execution_count": 15,
   "metadata": {},
   "outputs": [
    {
     "name": "stderr",
     "output_type": "stream",
     "text": [
      "/Users/parakhchaudhary/opt/anaconda3/envs/chaenv/lib/python3.11/site-packages/huggingface_hub/file_download.py:896: FutureWarning: `resume_download` is deprecated and will be removed in version 1.0.0. Downloads always resume when possible. If you want to force a new download, use `force_download=True`.\n",
      "  warnings.warn(\n"
     ]
    }
   ],
   "source": [
    "# Load data\n",
    "df = pd.read_csv(\"/Users/parakhchaudhary/SHL_Recommendation_System/dataset/dataset_final.csv\")\n",
    "embeddings = np.load(\"/Users/parakhchaudhary/SHL_Recommendation_System/dataset/dataset_final.npy\")\n",
    "\n",
    "# Load model\n",
    "model = SentenceTransformer(\"all-MiniLM-L6-v2\")\n",
    "\n",
    "# Parameters\n",
    "SIMILARITY_THRESHOLD = 0.4\n",
    "MAX_RESULTS = 10\n",
    "MIN_RESULTS = 1\n"
   ]
  },
  {
   "cell_type": "code",
   "execution_count": 16,
   "metadata": {},
   "outputs": [],
   "source": [
    "\n",
    "def recommend_tests(user_query):\n",
    "    query_embedding = model.encode([user_query])\n",
    "    similarities = cosine_similarity(query_embedding, embeddings)[0]\n",
    "    \n",
    "    # Filter by threshold\n",
    "    matching_indices = np.where(similarities >= SIMILARITY_THRESHOLD)[0]\n",
    "    \n",
    "    if len(matching_indices) == 0:\n",
    "        # fallback to top-1 if nothing matches\n",
    "        matching_indices = np.array([np.argmax(similarities)])\n",
    "    \n",
    "    # Sort by similarity\n",
    "    sorted_indices = matching_indices[np.argsort(similarities[matching_indices])[::-1]]\n",
    "    top_indices = sorted_indices[:MAX_RESULTS]\n",
    "    \n",
    "    # Return results\n",
    "    results = df.iloc[top_indices].copy()\n",
    "    results[\"similarity\"] = similarities[top_indices]\n",
    "\n",
    "    print(\"Top similarity scores:\", sorted(similarities, reverse=True)[:5])\n",
    "    print(f\"Matched indices (≥ {SIMILARITY_THRESHOLD}):\", matching_indices)\n",
    "\n",
    "    return results[[\"name\", \"test_type\", \"url\", \"similarity\"]]"
   ]
  },
  {
   "cell_type": "code",
   "execution_count": 17,
   "metadata": {},
   "outputs": [
    {
     "name": "stdout",
     "output_type": "stream",
     "text": [
      "Top similarity scores: [0.5914551, 0.547591, 0.53832364, 0.48696387, 0.4781316]\n",
      "Matched indices (≥ 0.4): [  7   8   9  10  11  14  18  46  50  55  56  58  66  70  75  76  81  88\n",
      "  89  90  91  92  94  99 100 101 103 104 105 110 111 112 113 115 126 131\n",
      " 135 138 141 143 144 145 146 147 160 168 172 174 191 192 195 205 215 240\n",
      " 241 242 247 250 251 252 253 254 263 265 266 267 278 279 283 290 291 292\n",
      " 308 313 318 319 320 323 335 336 337 338 340 347 351 352 353 354 367 372\n",
      " 373 374]\n",
      "\n",
      "✅ Recommended Tests:\n",
      "- Financial and Banking Services (New)\n",
      "- Financial Accounting (New)\n",
      "- Accounts Payable (New)\n",
      "- Pega Development (New)\n",
      "- Accounts Receivable (New)\n",
      "- Entry Level Cashier Solution\n",
      "- Software Business Analysis\n",
      "- Accounts Payable Simulation (New)\n",
      "- Economics (New)\n",
      "- Global Skills Assessment\n"
     ]
    }
   ],
   "source": [
    "# 🔍 Example Query\n",
    "query = \"ICICI Bank Assistant Admin, Experience required 0-2 years, test should be 30-40 mins long\"\n",
    "recommendations = recommend_tests(query)\n",
    "\n",
    "print(\"\\n✅ Recommended Tests:\")\n",
    "for name in recommendations[\"name\"].to_list():\n",
    "    print(\"-\", name)\n"
   ]
  },
  {
   "cell_type": "markdown",
   "metadata": {},
   "source": []
  }
 ],
 "metadata": {
  "kernelspec": {
   "display_name": "chaenv",
   "language": "python",
   "name": "python3"
  },
  "language_info": {
   "codemirror_mode": {
    "name": "ipython",
    "version": 3
   },
   "file_extension": ".py",
   "mimetype": "text/x-python",
   "name": "python",
   "nbconvert_exporter": "python",
   "pygments_lexer": "ipython3",
   "version": "3.11.7"
  }
 },
 "nbformat": 4,
 "nbformat_minor": 2
}
