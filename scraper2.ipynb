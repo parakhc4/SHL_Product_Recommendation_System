{
 "cells": [
  {
   "cell_type": "code",
   "execution_count": 1,
   "metadata": {},
   "outputs": [],
   "source": [
    "import requests\n",
    "from bs4 import BeautifulSoup\n",
    "import csv\n",
    "from selenium import webdriver\n",
    "from selenium.webdriver.chrome.options import Options\n",
    "from selenium.webdriver.chrome.service import Service\n",
    "import time\n",
    "\n",
    "CHROMEDRIVER_PATH = \"/Users/parakhchaudhary/chromedriver_135/chromedriver-mac-x64/chromedriver\"\n",
    "\n",
    "options = Options()\n",
    "options.add_argument(\"--headless\")  # Optional: remove to see browser\n",
    "\n",
    "service = Service(CHROMEDRIVER_PATH)\n",
    "driver = webdriver.Chrome(service=service, options=options)\n"
   ]
  },
  {
   "cell_type": "code",
   "execution_count": 2,
   "metadata": {},
   "outputs": [],
   "source": [
    "\n",
    "base_url = \"https://www.shl.com/products/product-catalog/?start={}&type=1\"\n",
    "all_data = []\n"
   ]
  },
  {
   "cell_type": "code",
   "execution_count": 3,
   "metadata": {},
   "outputs": [
    {
     "name": "stdout",
     "output_type": "stream",
     "text": [
      "Visiting https://www.shl.com/products/product-catalog/?start=0&type=1\n",
      "Visiting https://www.shl.com/products/product-catalog/?start=12&type=1\n",
      "Visiting https://www.shl.com/products/product-catalog/?start=24&type=1\n",
      "Visiting https://www.shl.com/products/product-catalog/?start=36&type=1\n",
      "Visiting https://www.shl.com/products/product-catalog/?start=48&type=1\n"
     ]
    }
   ],
   "source": [
    "for offset in range(0, 50, 12):\n",
    "    url = f\"https://www.shl.com/products/product-catalog/?start={offset}&type=1\"\n",
    "    print(f\"Visiting {url}\")\n",
    "    driver.get(url)\n",
    "    time.sleep(2)  # Let JS render fully\n",
    "\n",
    "    soup = BeautifulSoup(driver.page_source, \"html.parser\")\n",
    "    tables = soup.find_all(\"table\")\n",
    "    if len(tables) < 2:\n",
    "        continue\n",
    "\n",
    "    table = tables[-1]  # Individual Test Solutions\n",
    "    rows = table.find_all(\"tr\")[1:]\n",
    "\n",
    "    for row in rows:\n",
    "        cols = row.find_all(\"td\")\n",
    "        if len(cols) < 4:\n",
    "            continue\n",
    "\n",
    "        a_tag = cols[0].find(\"a\")\n",
    "        name = a_tag.text.strip()\n",
    "        href = a_tag['href'].strip()\n",
    "        remote = \"Yes\"\n",
    "        adaptive = \"Yes\" if cols[2].find(\"svg\") else \"No\"\n",
    "        test_type = ''.join(span.text for span in cols[3].find_all(\"span\"))\n",
    "\n",
    "        all_data.append({\n",
    "            \"name\": name,\n",
    "            \"url\": href,\n",
    "            \"remote_testing\": remote,\n",
    "            \"adaptive_support\": adaptive,\n",
    "            \"test_type\": test_type\n",
    "        })\n"
   ]
  },
  {
   "cell_type": "code",
   "execution_count": 4,
   "metadata": {},
   "outputs": [
    {
     "name": "stdout",
     "output_type": "stream",
     "text": [
      "✅ Done. Collected 12 entries\n"
     ]
    }
   ],
   "source": [
    "\n",
    "# Save final file\n",
    "with open(\"shl_final_catalog2.csv\", \"w\", newline=\"\") as f:\n",
    "    writer = csv.DictWriter(f, fieldnames=all_data[0].keys())\n",
    "    writer.writeheader()\n",
    "    writer.writerows(all_data)\n",
    "\n",
    "print(\"✅ Done. Collected\", len(all_data), \"entries\")\n"
   ]
  }
 ],
 "metadata": {
  "kernelspec": {
   "display_name": "chaenv",
   "language": "python",
   "name": "python3"
  },
  "language_info": {
   "codemirror_mode": {
    "name": "ipython",
    "version": 3
   },
   "file_extension": ".py",
   "mimetype": "text/x-python",
   "name": "python",
   "nbconvert_exporter": "python",
   "pygments_lexer": "ipython3",
   "version": "3.11.7"
  }
 },
 "nbformat": 4,
 "nbformat_minor": 2
}
