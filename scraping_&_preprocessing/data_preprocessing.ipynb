{
 "cells": [
  {
   "cell_type": "code",
   "execution_count": null,
   "metadata": {},
   "outputs": [],
   "source": [
    "import pandas as pd\n",
    "df = pd.read_csv(\"shl_CATALOG_copy.csv\")"
   ]
  },
  {
   "cell_type": "code",
   "execution_count": null,
   "metadata": {},
   "outputs": [],
   "source": [
    "code_mapping = {\n",
    "    \"A\": \"Ability & Aptitude\",\n",
    "    \"B\": \"Biodata & Situational Judgement\",\n",
    "    \"C\": \"Competencies\",\n",
    "    \"D\": \"Development & 360\",\n",
    "    \"E\": \"Assessment Exercises\",\n",
    "    \"K\": \"Knowledge & Skills\",\n",
    "    \"P\": \"Personality & Behavior\",\n",
    "    \"S\": \"Simulations\"\n",
    "}"
   ]
  },
  {
   "cell_type": "code",
   "execution_count": null,
   "metadata": {},
   "outputs": [],
   "source": [
    "def decode_test_types(code_str):\n",
    "    return ', '.join(code_mapping.get(char, char) for char in code_str)\n",
    "\n",
    "df[\"test_type\"] = df[\"test_type\"].apply(decode_test_types)"
   ]
  },
  {
   "cell_type": "code",
   "execution_count": null,
   "metadata": {},
   "outputs": [],
   "source": [
    "# df.to_csv(\"shl_catalog_enriched.csv\", index=False)"
   ]
  },
  {
   "cell_type": "code",
   "execution_count": 4,
   "metadata": {},
   "outputs": [
    {
     "name": "stdout",
     "output_type": "stream",
     "text": [
      "✅ 'Assessment Length' column cleaned and replaced with minutes.\n"
     ]
    }
   ],
   "source": [
    "import pandas as pd\n",
    "import re\n",
    "\n",
    "# Load the full file\n",
    "df = pd.read_csv(\"/Users/parakhchaudhary/SHL_Recommendation_System/dataset/dataset_with_minutes.csv\")\n",
    "\n",
    "# Extract number of minutes\n",
    "def extract_minutes(text):\n",
    "    match = re.search(r\"=\\s*(\\d+)\", str(text))\n",
    "    return int(match.group(1)) if match else \"\"\n",
    "\n",
    "# Replace the column\n",
    "df[\"Assessment Length\"] = df[\"Assessment Length\"].apply(extract_minutes)\n",
    "\n",
    "# Save it back\n",
    "df.to_csv(\"shl_catalog_cleaned_duration.csv\", index=False)\n",
    "\n",
    "print(\"✅ 'Assessment Length' column cleaned and replaced with minutes.\")\n"
   ]
  }
 ],
 "metadata": {
  "kernelspec": {
   "display_name": "chaenv",
   "language": "python",
   "name": "python3"
  },
  "language_info": {
   "codemirror_mode": {
    "name": "ipython",
    "version": 3
   },
   "file_extension": ".py",
   "mimetype": "text/x-python",
   "name": "python",
   "nbconvert_exporter": "python",
   "pygments_lexer": "ipython3",
   "version": "3.11.7"
  }
 },
 "nbformat": 4,
 "nbformat_minor": 2
}
