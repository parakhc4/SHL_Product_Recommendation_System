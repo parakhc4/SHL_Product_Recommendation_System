{
 "cells": [
  {
   "cell_type": "code",
   "execution_count": 8,
   "metadata": {},
   "outputs": [],
   "source": [
    "from selenium import webdriver\n",
    "from selenium.webdriver.chrome.options import Options\n",
    "from selenium.webdriver.chrome.service import Service\n",
    "from selenium.webdriver.common.by import By\n",
    "from bs4 import BeautifulSoup\n",
    "import time\n",
    "import csv"
   ]
  },
  {
   "cell_type": "code",
   "execution_count": 9,
   "metadata": {},
   "outputs": [],
   "source": [
    "CHROMEDRIVER_PATH = \"/Users/parakhchaudhary/chromedriver_135/chromedriver-mac-x64/chromedriver\"\n",
    "\n",
    "options = Options()\n",
    "options.add_argument(\"--headless\")\n",
    "service = Service(CHROMEDRIVER_PATH)\n",
    "driver = webdriver.Chrome(service=service, options=options)\n",
    "\n",
    "base_url = \"https://www.shl.com/solutions/products/product-catalog/?page={}\"\n",
    "data = []"
   ]
  },
  {
   "cell_type": "code",
   "execution_count": 10,
   "metadata": {},
   "outputs": [
    {
     "name": "stdout",
     "output_type": "stream",
     "text": [
      "Scraping page 1\n",
      "Scraping page 2\n",
      "Scraping page 3\n",
      "Scraping page 4\n",
      "Scraping page 5\n",
      "Scraping page 6\n",
      "Scraping page 7\n",
      "Scraping page 8\n",
      "Scraping page 9\n",
      "Scraping page 10\n",
      "Scraping page 11\n",
      "Scraping page 12\n",
      "Scraping page 13\n",
      "Scraping page 14\n",
      "Scraping page 15\n",
      "Scraping page 16\n",
      "Scraping page 17\n",
      "Scraping page 18\n",
      "Scraping page 19\n",
      "Scraping page 20\n",
      "Scraping page 21\n",
      "Scraping page 22\n",
      "Scraping page 23\n",
      "Scraping page 24\n",
      "Scraping page 25\n",
      "Scraping page 26\n",
      "Scraping page 27\n",
      "Scraping page 28\n",
      "Scraping page 29\n",
      "Scraping page 30\n",
      "Scraping page 31\n"
     ]
    }
   ],
   "source": [
    "\n",
    "for page in range(1, 32):\n",
    "    print(f\"Scraping page {page}\")\n",
    "    driver.get(base_url.format(page))\n",
    "    time.sleep(2)\n",
    "    \n",
    "    soup = BeautifulSoup(driver.page_source, 'html.parser')\n",
    "    tables = soup.find_all(\"table\")\n",
    "\n",
    "    if len(tables) < 2:\n",
    "        continue\n",
    "\n",
    "    table = tables[1]  # Individual Test Solutions table\n",
    "    rows = table.find_all(\"tr\")[1:]\n",
    "\n",
    "    for row in rows:\n",
    "        cols = row.find_all(\"td\")\n",
    "        if len(cols) < 4:\n",
    "            continue\n",
    "\n",
    "        test_name_tag = cols[0].find(\"a\")\n",
    "        test_name = test_name_tag.text.strip()\n",
    "        test_url = test_name_tag['href']\n",
    "        remote_testing = \"Yes\" if cols[1].find(\"svg\") else \"No\"\n",
    "        adaptive = \"Yes\" if cols[2].find(\"svg\") else \"No\"\n",
    "        test_types = ''.join(span.text for span in cols[3].find_all(\"span\"))\n",
    "\n",
    "        data.append({\n",
    "            \"name\": test_name,\n",
    "            \"url\": test_url,\n",
    "            \"remote_testing\": remote_testing,\n",
    "            \"adaptive_support\": adaptive,\n",
    "            \"test_type\": test_types\n",
    "        })\n",
    "\n",
    "driver.quit()"
   ]
  },
  {
   "cell_type": "code",
   "execution_count": 11,
   "metadata": {},
   "outputs": [
    {
     "name": "stdout",
     "output_type": "stream",
     "text": [
      "✅ Done. Saved to shl_individual_test_solutions.csv\n"
     ]
    }
   ],
   "source": [
    "\n",
    "with open(\"shl_individual_test_solutions_32.csv\", \"w\", newline=\"\") as f:\n",
    "    writer = csv.DictWriter(f, fieldnames=data[0].keys())\n",
    "    writer.writeheader()\n",
    "    writer.writerows(data)\n",
    "\n",
    "print(\"✅ Done. Saved to shl_individual_test_solutions.csv\")\n"
   ]
  }
 ],
 "metadata": {
  "kernelspec": {
   "display_name": "chaenv",
   "language": "python",
   "name": "python3"
  },
  "language_info": {
   "codemirror_mode": {
    "name": "ipython",
    "version": 3
   },
   "file_extension": ".py",
   "mimetype": "text/x-python",
   "name": "python",
   "nbconvert_exporter": "python",
   "pygments_lexer": "ipython3",
   "version": "3.11.7"
  }
 },
 "nbformat": 4,
 "nbformat_minor": 2
}
