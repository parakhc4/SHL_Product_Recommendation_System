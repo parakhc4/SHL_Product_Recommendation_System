{
 "cells": [
  {
   "cell_type": "code",
   "execution_count": 1,
   "metadata": {},
   "outputs": [],
   "source": [
    "from selenium import webdriver\n",
    "from selenium.webdriver.chrome.options import Options\n",
    "from selenium.webdriver.chrome.service import Service\n",
    "from selenium.webdriver.common.by import By\n",
    "from bs4 import BeautifulSoup\n",
    "import time\n",
    "import csv"
   ]
  },
  {
   "cell_type": "code",
   "execution_count": 2,
   "metadata": {},
   "outputs": [],
   "source": [
    "CHROMEDRIVER_PATH = \"/Users/parakhchaudhary/chromedriver_135/chromedriver-mac-x64/chromedriver\"\n",
    "\n",
    "options = Options()\n",
    "options.add_argument(\"--headless\")\n",
    "service = Service(CHROMEDRIVER_PATH)\n",
    "driver = webdriver.Chrome(service=service, options=options)\n",
    "\n",
    "base_url = \"https://www.shl.com/products/product-catalog/?start={}&type=1\"\n",
    "data = []"
   ]
  },
  {
   "cell_type": "code",
   "execution_count": 3,
   "metadata": {},
   "outputs": [
    {
     "name": "stdout",
     "output_type": "stream",
     "text": [
      "Scraping offset 0\n",
      "Scraping offset 12\n",
      "Scraping offset 24\n",
      "Scraping offset 36\n",
      "Scraping offset 48\n",
      "Scraping offset 60\n",
      "Scraping offset 72\n",
      "Scraping offset 84\n",
      "Scraping offset 96\n",
      "Scraping offset 108\n",
      "Scraping offset 120\n",
      "Scraping offset 132\n",
      "Scraping offset 144\n",
      "Scraping offset 156\n",
      "Scraping offset 168\n",
      "Scraping offset 180\n",
      "Scraping offset 192\n",
      "Scraping offset 204\n",
      "Scraping offset 216\n",
      "Scraping offset 228\n",
      "Scraping offset 240\n",
      "Scraping offset 252\n",
      "Scraping offset 264\n",
      "Scraping offset 276\n",
      "Scraping offset 288\n",
      "Scraping offset 300\n",
      "Scraping offset 312\n",
      "Scraping offset 324\n",
      "Scraping offset 336\n",
      "Scraping offset 348\n",
      "Scraping offset 360\n"
     ]
    }
   ],
   "source": [
    "\n",
    "for offset in range(0, 372, 12):\n",
    "    print(f\"Scraping offset {offset}\")\n",
    "    driver.get(base_url.format(offset))\n",
    "\n",
    "    time.sleep(2)\n",
    "    \n",
    "    soup = BeautifulSoup(driver.page_source, 'html.parser')\n",
    "    tables = soup.find_all(\"table\")\n",
    "\n",
    "    if len(tables) < 2:\n",
    "        continue\n",
    "\n",
    "    table = tables[1]  # Individual Test Solutions table\n",
    "    rows = table.find_all(\"tr\")[1:]\n",
    "\n",
    "    for row in rows:\n",
    "        cols = row.find_all(\"td\")\n",
    "        if len(cols) < 4:\n",
    "            continue\n",
    "\n",
    "        test_name_tag = cols[0].find(\"a\")\n",
    "        test_name = test_name_tag.text.strip()\n",
    "        test_url = test_name_tag['href']\n",
    "        remote_testing = \"Yes\" if cols[1].find(\"svg\") else \"No\"\n",
    "        adaptive = \"Yes\" if cols[2].find(\"svg\") else \"No\"\n",
    "        test_types = ''.join(span.text for span in cols[3].find_all(\"span\"))\n",
    "\n",
    "        data.append({\n",
    "            \"name\": test_name,\n",
    "            \"url\": test_url,\n",
    "            \"remote_testing\": remote_testing,\n",
    "            \"adaptive_support\": adaptive,\n",
    "            \"test_type\": test_types\n",
    "        })\n",
    "\n",
    "driver.quit()"
   ]
  },
  {
   "cell_type": "code",
   "execution_count": 4,
   "metadata": {},
   "outputs": [
    {
     "name": "stdout",
     "output_type": "stream",
     "text": [
      "✅ Done. Saved to shl_individual_test_solutions.csv\n"
     ]
    }
   ],
   "source": [
    "\n",
    "with open(\"shl_individual_test_solutions_New.csv\", \"w\", newline=\"\") as f:\n",
    "    writer = csv.DictWriter(f, fieldnames=data[0].keys())\n",
    "    writer.writeheader()\n",
    "    writer.writerows(data)\n",
    "\n",
    "print(\"✅ Done. Saved to shl_individual_test_solutions.csv\")\n"
   ]
  }
 ],
 "metadata": {
  "kernelspec": {
   "display_name": "chaenv",
   "language": "python",
   "name": "python3"
  },
  "language_info": {
   "codemirror_mode": {
    "name": "ipython",
    "version": 3
   },
   "file_extension": ".py",
   "mimetype": "text/x-python",
   "name": "python",
   "nbconvert_exporter": "python",
   "pygments_lexer": "ipython3",
   "version": "3.11.7"
  }
 },
 "nbformat": 4,
 "nbformat_minor": 2
}
