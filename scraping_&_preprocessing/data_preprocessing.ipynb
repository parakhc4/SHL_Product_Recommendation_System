{
 "cells": [
  {
   "cell_type": "code",
   "execution_count": 4,
   "metadata": {},
   "outputs": [],
   "source": [
    "import pandas as pd\n",
    "df = pd.read_csv(\"shl_CATALOG_copy.csv\")"
   ]
  },
  {
   "cell_type": "code",
   "execution_count": 5,
   "metadata": {},
   "outputs": [],
   "source": [
    "# 2. Map short codes to full test type names\n",
    "code_mapping = {\n",
    "    \"A\": \"Ability & Aptitude\",\n",
    "    \"B\": \"Biodata & Situational Judgement\",\n",
    "    \"C\": \"Competencies\",\n",
    "    \"D\": \"Development & 360\",\n",
    "    \"E\": \"Assessment Exercises\",\n",
    "    \"K\": \"Knowledge & Skills\",\n",
    "    \"P\": \"Personality & Behavior\",\n",
    "    \"S\": \"Simulations\"\n",
    "}"
   ]
  },
  {
   "cell_type": "code",
   "execution_count": 6,
   "metadata": {},
   "outputs": [],
   "source": [
    "def decode_test_types(code_str):\n",
    "    return ', '.join(code_mapping.get(char, char) for char in code_str)\n",
    "\n",
    "df[\"test_type\"] = df[\"test_type\"].apply(decode_test_types)"
   ]
  },
  {
   "cell_type": "code",
   "execution_count": null,
   "metadata": {},
   "outputs": [],
   "source": [
    "df.to_csv(\"shl_catalog_enriched.csv\", index=False)"
   ]
  }
 ],
 "metadata": {
  "kernelspec": {
   "display_name": "chaenv",
   "language": "python",
   "name": "python3"
  },
  "language_info": {
   "codemirror_mode": {
    "name": "ipython",
    "version": 3
   },
   "file_extension": ".py",
   "mimetype": "text/x-python",
   "name": "python",
   "nbconvert_exporter": "python",
   "pygments_lexer": "ipython3",
   "version": "3.11.7"
  }
 },
 "nbformat": 4,
 "nbformat_minor": 2
}
