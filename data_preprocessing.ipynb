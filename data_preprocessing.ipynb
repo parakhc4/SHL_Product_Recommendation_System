{
 "cells": [
  {
   "cell_type": "code",
   "execution_count": null,
   "metadata": {},
   "outputs": [],
   "source": [
    "import pandas as pd\n",
    "df = pd.read_csv(\"shl_individual_test_solutions.csv\")"
   ]
  },
  {
   "cell_type": "markdown",
   "metadata": {},
   "source": [
    "Scraping failed for 'Remote Testing' and 'Adaptive Support'.\n",
    "I have decided to manually set them."
   ]
  },
  {
   "cell_type": "code",
   "execution_count": null,
   "metadata": {},
   "outputs": [],
   "source": [
    "df[\"remote_testing\"] = \"Yes\""
   ]
  },
  {
   "cell_type": "code",
   "execution_count": null,
   "metadata": {},
   "outputs": [],
   "source": [
    "# 2. Map short codes to full test type names\n",
    "code_mapping = {\n",
    "    \"A\": \"Ability & Aptitude\",\n",
    "    \"B\": \"Biodata & Situational Judgement\",\n",
    "    \"C\": \"Competencies\",\n",
    "    \"D\": \"Development & 360\",\n",
    "    \"E\": \"Assessment Exercises\",\n",
    "    \"K\": \"Knowledge & Skills\",\n",
    "    \"P\": \"Personality & Behavior\",\n",
    "    \"S\": \"Simulations\"\n",
    "}\n"
   ]
  },
  {
   "cell_type": "markdown",
   "metadata": {},
   "source": [
    "def decode_test_types(code_str):\n",
    "    return ', '.join(code_mapping.get(char, char) for char in code_str)\n",
    "\n",
    "df[\"test_type\"] = df[\"test_type\"].apply(decode_test_types)\n",
    "\n",
    "# Save cleaned CSV\n",
    "df.to_csv(\"shl_individual_test_solutions_cleaned.csv\", index=False)\n",
    "print(\"✅ Cleaned file saved as shl_individual_test_solutions_cleaned.csv\")\n"
   ]
  },
  {
   "cell_type": "code",
   "execution_count": null,
   "metadata": {},
   "outputs": [],
   "source": []
  }
 ],
 "metadata": {
  "kernelspec": {
   "display_name": "chaenv",
   "language": "python",
   "name": "python3"
  },
  "language_info": {
   "codemirror_mode": {
    "name": "ipython",
    "version": 3
   },
   "file_extension": ".py",
   "mimetype": "text/x-python",
   "name": "python",
   "nbconvert_exporter": "python",
   "pygments_lexer": "ipython3",
   "version": "3.11.7"
  }
 },
 "nbformat": 4,
 "nbformat_minor": 2
}
